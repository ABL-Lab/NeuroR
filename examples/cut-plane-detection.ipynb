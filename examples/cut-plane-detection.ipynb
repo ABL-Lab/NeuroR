{
 "cells": [
  {
   "cell_type": "markdown",
   "metadata": {},
   "source": [
    "# Cut plane detection"
   ]
  },
  {
   "cell_type": "markdown",
   "metadata": {},
   "source": [
    "The cut plane detection aims at find the spatial plane where the morphology was experimentally cut.\n",
    "\n",
    "The librairy offers two ways of detecting cut planes, depending of whether or not they are along the X,Y or Z axis or on a arbitrary one."
   ]
  },
  {
   "cell_type": "markdown",
   "metadata": {},
   "source": [
    "## Detection along X, Y or Z axes"
   ]
  },
  {
   "cell_type": "code",
   "execution_count": 6,
   "metadata": {},
   "outputs": [
    {
     "name": "stdout",
     "output_type": "stream",
     "text": [
      "Checking the status of the detection: ok\n",
      "\n",
      "Coordinates of morphology points belonging to the cut plane:\n",
      "[[ -99.83422      -2.2443538    48.600204  ]\n",
      " [-141.51422      20.185646     48.680206  ]\n",
      " [ -53.534218     97.40565      46.410206  ]\n",
      " [  16.155783    -22.084354     45.860207  ]\n",
      " [ -14.654218     -9.674354     47.270206  ]\n",
      " [ -30.674217    -16.844355     45.710205  ]\n",
      " [ -35.614216    -15.954353     46.570206  ]\n",
      " [ -24.964218     -0.52435374   46.640205  ]\n",
      " [ -16.084217     19.265646     46.490204  ]\n",
      " [  -6.4742174    13.075646     46.180206  ]\n",
      " [  27.375782     49.955647     45.860207  ]\n",
      " [  -3.6142175    44.925648     46.020206  ]]\n",
      "\n",
      "Cut plane equation: 0.0 X + 0.0 Y + 1.0 Z = -48.680206298828125\n",
      "\n"
     ]
    }
   ],
   "source": [
    "from pathlib import Path\n",
    "from neuror.cut_plane import CutPlane\n",
    "DATA = Path('../tests/data').resolve()\n",
    "\n",
    "result = CutPlane.find(DATA / 'Neuron_slice.h5')\n",
    "\n",
    "print(f'Checking the status of the detection: {result.status}\\n')\n",
    "\n",
    "print(f'Coordinates of morphology points belonging to the cut plane:\\n{result.cut_leaves_coordinates}\\n')\n",
    "\n",
    "a, b, c, d = result.coefs\n",
    "print(f'Cut plane equation: {a} X + {b} Y + {c} Z = {d}\\n')"
   ]
  },
  {
   "cell_type": "markdown",
   "metadata": {},
   "source": [
    "# Detection along arbritrary axes"
   ]
  },
  {
   "cell_type": "markdown",
   "metadata": {},
   "source": [
    "This needs to be done through the following CLI that will open a web-app that needs a manual hint to help for the detection:"
   ]
  },
  {
   "cell_type": "markdown",
   "metadata": {},
   "source": [
    "```bash\n",
    "neuror cut-plane compute hint\n",
    "```"
   ]
  }
 ],
 "metadata": {
  "kernelspec": {
   "display_name": "Python 3",
   "language": "python",
   "name": "python3"
  },
  "language_info": {
   "codemirror_mode": {
    "name": "ipython",
    "version": 3
   },
   "file_extension": ".py",
   "mimetype": "text/x-python",
   "name": "python",
   "nbconvert_exporter": "python",
   "pygments_lexer": "ipython3",
   "version": "3.6.9"
  }
 },
 "nbformat": 4,
 "nbformat_minor": 4
}
