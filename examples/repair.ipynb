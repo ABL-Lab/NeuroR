{
 "cells": [
  {
   "cell_type": "code",
   "execution_count": 1,
   "metadata": {},
   "outputs": [],
   "source": [
    "from pathlib import Path"
   ]
  },
  {
   "cell_type": "code",
   "execution_count": 5,
   "metadata": {},
   "outputs": [],
   "source": [
    "DATA = Path('../tests/data').resolve()"
   ]
  },
  {
   "cell_type": "markdown",
   "metadata": {},
   "source": [
    "# Sanitize"
   ]
  },
  {
   "cell_type": "markdown",
   "metadata": {},
   "source": [
    "This is the process of curating a morphological file. It currently:\n",
    "\n",
    "- removes zero-length segments\n",
    "- raises if the morphology has no soma\n",
    "- raises if the morphology has negative diameters\n",
    "\n",
    "Note: more functionality may be added in the future"
   ]
  },
  {
   "cell_type": "markdown",
   "metadata": {},
   "source": [
    "## Sanitize a single file"
   ]
  },
  {
   "cell_type": "code",
   "execution_count": 3,
   "metadata": {},
   "outputs": [],
   "source": [
    "from neuror.sanitize import sanitize\n",
    "\n",
    "sanitize(Path(DATA, 'simple-with-duplicates.asc'), 'data/output/sanitized.swc')"
   ]
  },
  {
   "cell_type": "markdown",
   "metadata": {},
   "source": [
    "## Sanitize all files in a folder"
   ]
  },
  {
   "cell_type": "code",
   "execution_count": 4,
   "metadata": {},
   "outputs": [
    {
     "name": "stderr",
     "output_type": "stream",
     "text": [
      "100%|██████████| 27/27 [00:00<00:00, 149.48it/s]\n"
     ]
    }
   ],
   "source": [
    "from neuror.sanitize import sanitize_all\n",
    "\n",
    "sanitize_all(DATA, 'data/output/sanitized')"
   ]
  },
  {
   "cell_type": "markdown",
   "metadata": {},
   "source": [
    "# Cut plane repair"
   ]
  },
  {
   "cell_type": "markdown",
   "metadata": {},
   "source": [
    "The cut plane repair aims at regrowing part of a morphologies that have been cut out\n",
    "when the cell has been experimentally sliced."
   ]
  },
  {
   "cell_type": "markdown",
   "metadata": {},
   "source": [
    "## Repair a single file"
   ]
  },
  {
   "cell_type": "code",
   "execution_count": 5,
   "metadata": {},
   "outputs": [
    {
     "name": "stderr",
     "output_type": "stream",
     "text": [
      "Could not find apical point\n"
     ]
    }
   ],
   "source": [
    "from neuror.main import repair\n",
    "\n",
    "repair(DATA / 'Neuron_slice.h5', 'data/output/repaired.h5')\n"
   ]
  },
  {
   "cell_type": "markdown",
   "metadata": {},
   "source": [
    "## Repair all files in a folder"
   ]
  },
  {
   "cell_type": "code",
   "execution_count": 6,
   "metadata": {},
   "outputs": [],
   "source": [
    "from neuror.full import repair_all\n",
    "\n",
    "output = Path('data/output/repaired-folder')\n",
    "output.mkdir(exist_ok=True)\n",
    "\n",
    "repair_all(DATA / '../../examples/input-repair', output)"
   ]
  },
  {
   "cell_type": "markdown",
   "metadata": {},
   "source": [
    "# Unravelling"
   ]
  },
  {
   "cell_type": "markdown",
   "metadata": {},
   "source": [
    "Unravelling is the action of \"stretching\" the cell that has been shrunk because of the dehydratation caused by the slicing."
   ]
  },
  {
   "cell_type": "markdown",
   "metadata": {},
   "source": [
    "## Unravel a single file"
   ]
  },
  {
   "cell_type": "code",
   "execution_count": 7,
   "metadata": {},
   "outputs": [
    {
     "data": {
      "text/html": [
       "<div>\n",
       "<style scoped>\n",
       "    .dataframe tbody tr th:only-of-type {\n",
       "        vertical-align: middle;\n",
       "    }\n",
       "\n",
       "    .dataframe tbody tr th {\n",
       "        vertical-align: top;\n",
       "    }\n",
       "\n",
       "    .dataframe thead th {\n",
       "        text-align: right;\n",
       "    }\n",
       "</style>\n",
       "<table border=\"1\" class=\"dataframe\">\n",
       "  <thead>\n",
       "    <tr style=\"text-align: right;\">\n",
       "      <th></th>\n",
       "      <th>x0</th>\n",
       "      <th>y0</th>\n",
       "      <th>z0</th>\n",
       "      <th>x1</th>\n",
       "      <th>y1</th>\n",
       "      <th>z1</th>\n",
       "    </tr>\n",
       "  </thead>\n",
       "  <tbody>\n",
       "    <tr>\n",
       "      <th>0</th>\n",
       "      <td>-3.684218</td>\n",
       "      <td>10.765646</td>\n",
       "      <td>-13.829796</td>\n",
       "      <td>-3.684218</td>\n",
       "      <td>10.765646</td>\n",
       "      <td>-13.829796</td>\n",
       "    </tr>\n",
       "    <tr>\n",
       "      <th>1</th>\n",
       "      <td>-3.914217</td>\n",
       "      <td>11.355646</td>\n",
       "      <td>-14.289796</td>\n",
       "      <td>-3.786056</td>\n",
       "      <td>11.433075</td>\n",
       "      <td>-14.225735</td>\n",
       "    </tr>\n",
       "    <tr>\n",
       "      <th>2</th>\n",
       "      <td>-4.084218</td>\n",
       "      <td>11.915647</td>\n",
       "      <td>-14.529796</td>\n",
       "      <td>-3.869699</td>\n",
       "      <td>11.960962</td>\n",
       "      <td>-14.564023</td>\n",
       "    </tr>\n",
       "    <tr>\n",
       "      <th>3</th>\n",
       "      <td>-4.104218</td>\n",
       "      <td>12.465646</td>\n",
       "      <td>-14.839796</td>\n",
       "      <td>-3.959118</td>\n",
       "      <td>12.492048</td>\n",
       "      <td>-14.894101</td>\n",
       "    </tr>\n",
       "    <tr>\n",
       "      <th>4</th>\n",
       "      <td>-4.164217</td>\n",
       "      <td>12.855646</td>\n",
       "      <td>-15.079796</td>\n",
       "      <td>-4.017840</td>\n",
       "      <td>12.879383</td>\n",
       "      <td>-15.138690</td>\n",
       "    </tr>\n",
       "    <tr>\n",
       "      <th>...</th>\n",
       "      <td>...</td>\n",
       "      <td>...</td>\n",
       "      <td>...</td>\n",
       "      <td>...</td>\n",
       "      <td>...</td>\n",
       "      <td>...</td>\n",
       "    </tr>\n",
       "    <tr>\n",
       "      <th>17121</th>\n",
       "      <td>43.885784</td>\n",
       "      <td>143.625656</td>\n",
       "      <td>13.680204</td>\n",
       "      <td>49.387363</td>\n",
       "      <td>158.269501</td>\n",
       "      <td>16.787622</td>\n",
       "    </tr>\n",
       "    <tr>\n",
       "      <th>17122</th>\n",
       "      <td>44.525784</td>\n",
       "      <td>144.155655</td>\n",
       "      <td>13.750204</td>\n",
       "      <td>49.871132</td>\n",
       "      <td>158.948059</td>\n",
       "      <td>16.817884</td>\n",
       "    </tr>\n",
       "    <tr>\n",
       "      <th>17123</th>\n",
       "      <td>44.755783</td>\n",
       "      <td>144.475647</td>\n",
       "      <td>13.910204</td>\n",
       "      <td>50.117596</td>\n",
       "      <td>159.294205</td>\n",
       "      <td>16.836184</td>\n",
       "    </tr>\n",
       "    <tr>\n",
       "      <th>17124</th>\n",
       "      <td>45.095783</td>\n",
       "      <td>144.705643</td>\n",
       "      <td>13.910204</td>\n",
       "      <td>50.360828</td>\n",
       "      <td>159.624130</td>\n",
       "      <td>16.858242</td>\n",
       "    </tr>\n",
       "    <tr>\n",
       "      <th>17125</th>\n",
       "      <td>45.315784</td>\n",
       "      <td>145.035645</td>\n",
       "      <td>13.910204</td>\n",
       "      <td>50.603714</td>\n",
       "      <td>159.936386</td>\n",
       "      <td>16.886534</td>\n",
       "    </tr>\n",
       "  </tbody>\n",
       "</table>\n",
       "<p>17126 rows × 6 columns</p>\n",
       "</div>"
      ],
      "text/plain": [
       "              x0          y0         z0         x1          y1         z1\n",
       "0      -3.684218   10.765646 -13.829796  -3.684218   10.765646 -13.829796\n",
       "1      -3.914217   11.355646 -14.289796  -3.786056   11.433075 -14.225735\n",
       "2      -4.084218   11.915647 -14.529796  -3.869699   11.960962 -14.564023\n",
       "3      -4.104218   12.465646 -14.839796  -3.959118   12.492048 -14.894101\n",
       "4      -4.164217   12.855646 -15.079796  -4.017840   12.879383 -15.138690\n",
       "...          ...         ...        ...        ...         ...        ...\n",
       "17121  43.885784  143.625656  13.680204  49.387363  158.269501  16.787622\n",
       "17122  44.525784  144.155655  13.750204  49.871132  158.948059  16.817884\n",
       "17123  44.755783  144.475647  13.910204  50.117596  159.294205  16.836184\n",
       "17124  45.095783  144.705643  13.910204  50.360828  159.624130  16.858242\n",
       "17125  45.315784  145.035645  13.910204  50.603714  159.936386  16.886534\n",
       "\n",
       "[17126 rows x 6 columns]"
      ]
     },
     "execution_count": 7,
     "metadata": {},
     "output_type": "execute_result"
    }
   ],
   "source": [
    "from neuror.unravel import unravel\n",
    "\n",
    "unravelled_neuron, mapping = unravel(DATA / 'Neuron_slice.h5')\n",
    "unravelled_neuron.write('data/output/unravelled.h5')\n",
    "\n",
    "# mapping contains the coordinates of each points of the morphology before/after unravelling\n",
    "mapping"
   ]
  },
  {
   "cell_type": "markdown",
   "metadata": {},
   "source": [
    "## Unravel all morphologies in a folder"
   ]
  },
  {
   "cell_type": "markdown",
   "metadata": {},
   "source": [
    "The following `unravel_all` function not only perform the unravelling of all the morphologies in the folder but also update their cut planes.\n",
    "\n",
    "Because the unravelling distords morphologies, cut planes must be computed before correcting it.\n",
    "`unravel_all` takes care of updating the position of the 'cut points' (points close to the cut plane) after they have been unravelled.\n",
    "Note: the planes can be computed with the CLI: neuror cut-plane compute folder\n",
    "\n",
    "The argument 'raw_planes' is a folder that must contain JSON files with cut planes for all morphology in the input folder. The name of the files should be the same as the morphology they refer to, but with the JSON extension.\n"
   ]
  },
  {
   "cell_type": "code",
   "execution_count": 8,
   "metadata": {},
   "outputs": [],
   "source": [
    "from neuror.unravel import unravel_all\n",
    "\n",
    "output = Path('data/output/unravelled-folder')\n",
    "output.mkdir(exist_ok=True)\n",
    "\n",
    "input_path = DATA / 'input-unravel-all'\n",
    "raw_planes = input_path / 'raw-planes/'\n",
    "\n",
    "unravel_planes = output / 'unravelled-planes'\n",
    "unravel_planes.mkdir(exist_ok=True)\n",
    "\n",
    "unravel_all(input_path, output, \n",
    "            raw_planes, unravel_planes)"
   ]
  }
 ],
 "metadata": {
  "kernelspec": {
   "display_name": "Python 3",
   "language": "python",
   "name": "python3"
  },
  "language_info": {
   "codemirror_mode": {
    "name": "ipython",
    "version": 3
   },
   "file_extension": ".py",
   "mimetype": "text/x-python",
   "name": "python",
   "nbconvert_exporter": "python",
   "pygments_lexer": "ipython3",
   "version": "3.6.9"
  }
 },
 "nbformat": 4,
 "nbformat_minor": 4
}
